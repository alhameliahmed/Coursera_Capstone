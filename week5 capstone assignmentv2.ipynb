{
 "cells": [
  {
   "cell_type": "code",
   "execution_count": 1,
   "metadata": {},
   "outputs": [
    {
     "name": "stdout",
     "output_type": "stream",
     "text": [
      "Solving environment: done\n",
      "\n",
      "## Package Plan ##\n",
      "\n",
      "  environment location: /opt/conda/envs/DSX-Python35\n",
      "\n",
      "  added / updated specs: \n",
      "    - geopy\n",
      "\n",
      "\n",
      "The following packages will be downloaded:\n",
      "\n",
      "    package                    |            build\n",
      "    ---------------------------|-----------------\n",
      "    geographiclib-1.49         |             py_0          32 KB  conda-forge\n",
      "    certifi-2018.8.24          |        py35_1001         139 KB  conda-forge\n",
      "    ca-certificates-2019.6.16  |       hecc5488_0         145 KB  conda-forge\n",
      "    openssl-1.0.2r             |       h14c3975_0         3.1 MB  conda-forge\n",
      "    geopy-1.20.0               |             py_0          57 KB  conda-forge\n",
      "    ------------------------------------------------------------\n",
      "                                           Total:         3.5 MB\n",
      "\n",
      "The following NEW packages will be INSTALLED:\n",
      "\n",
      "    geographiclib:   1.49-py_0         conda-forge\n",
      "    geopy:           1.20.0-py_0       conda-forge\n",
      "\n",
      "The following packages will be UPDATED:\n",
      "\n",
      "    ca-certificates: 2019.1.23-0                   --> 2019.6.16-hecc5488_0 conda-forge\n",
      "    certifi:         2018.8.24-py35_1              --> 2018.8.24-py35_1001  conda-forge\n",
      "\n",
      "The following packages will be DOWNGRADED:\n",
      "\n",
      "    openssl:         1.0.2s-h7b6447c_0             --> 1.0.2r-h14c3975_0    conda-forge\n",
      "\n",
      "\n",
      "Downloading and Extracting Packages\n",
      "geographiclib-1.49   | 32 KB     | ##################################### | 100% \n",
      "certifi-2018.8.24    | 139 KB    | ##################################### | 100% \n",
      "ca-certificates-2019 | 145 KB    | ##################################### | 100% \n",
      "openssl-1.0.2r       | 3.1 MB    | ##################################### | 100% \n",
      "geopy-1.20.0         | 57 KB     | ##################################### | 100% \n",
      "Preparing transaction: done\n",
      "Verifying transaction: done\n",
      "Executing transaction: done\n",
      "Solving environment: done\n",
      "\n",
      "## Package Plan ##\n",
      "\n",
      "  environment location: /opt/conda/envs/DSX-Python35\n",
      "\n",
      "  added / updated specs: \n",
      "    - folium=0.5.0\n",
      "\n",
      "\n",
      "The following packages will be downloaded:\n",
      "\n",
      "    package                    |            build\n",
      "    ---------------------------|-----------------\n",
      "    folium-0.5.0               |             py_0          45 KB  conda-forge\n",
      "    branca-0.3.1               |             py_0          25 KB  conda-forge\n",
      "    altair-2.2.2               |           py35_1         462 KB  conda-forge\n",
      "    vincent-0.4.4              |             py_1          28 KB  conda-forge\n",
      "    ------------------------------------------------------------\n",
      "                                           Total:         560 KB\n",
      "\n",
      "The following NEW packages will be INSTALLED:\n",
      "\n",
      "    altair:  2.2.2-py35_1 conda-forge\n",
      "    branca:  0.3.1-py_0   conda-forge\n",
      "    folium:  0.5.0-py_0   conda-forge\n",
      "    vincent: 0.4.4-py_1   conda-forge\n",
      "\n",
      "\n",
      "Downloading and Extracting Packages\n",
      "folium-0.5.0         | 45 KB     | ##################################### | 100% \n",
      "branca-0.3.1         | 25 KB     | ##################################### | 100% \n",
      "altair-2.2.2         | 462 KB    | ##################################### | 100% \n",
      "vincent-0.4.4        | 28 KB     | ##################################### | 100% \n",
      "Preparing transaction: done\n",
      "Verifying transaction: done\n",
      "Executing transaction: done\n",
      "Libraries imported.\n"
     ]
    }
   ],
   "source": [
    "import numpy as np # library to handle data in a vectorized manner\n",
    "\n",
    "import pandas as pd # library for data analsysis\n",
    "pd.set_option('display.max_columns', None)\n",
    "pd.set_option('display.max_rows', None)\n",
    "\n",
    "import json # library to handle JSON files\n",
    "\n",
    "!conda install -c conda-forge geopy --yes # uncomment this line if you haven't completed the Foursquare API lab\n",
    "from geopy.geocoders import Nominatim # convert an address into latitude and longitude values\n",
    "\n",
    "import requests # library to handle requests\n",
    "from pandas.io.json import json_normalize # tranform JSON file into a pandas dataframe\n",
    "\n",
    "# Matplotlib and associated plotting modules\n",
    "import matplotlib.cm as cm\n",
    "import matplotlib.colors as colors\n",
    "\n",
    "# import k-means from clustering stage\n",
    "from sklearn.cluster import KMeans\n",
    "\n",
    "!conda install -c conda-forge folium=0.5.0 --yes # uncomment this line if you haven't completed the Foursquare API lab\n",
    "import folium # map rendering library\n",
    "\n",
    "print('Libraries imported.')"
   ]
  },
  {
   "cell_type": "code",
   "execution_count": 2,
   "metadata": {},
   "outputs": [
    {
     "name": "stdout",
     "output_type": "stream",
     "text": [
      "Data downloaded!\n"
     ]
    }
   ],
   "source": [
    "!wget -q -O 'newyork_data.json' https://cocl.us/new_york_dataset\n",
    "print('Data downloaded!')"
   ]
  },
  {
   "cell_type": "code",
   "execution_count": 3,
   "metadata": {},
   "outputs": [],
   "source": [
    "with open('newyork_data.json') as json_data:\n",
    "    newyork_data = json.load(json_data)\n",
    "    "
   ]
  },
  {
   "cell_type": "code",
   "execution_count": 5,
   "metadata": {},
   "outputs": [],
   "source": [
    "# define the dataframe columns\n",
    "column_names = ['Borough', 'Neighborhood', 'Latitude', 'Longitude'] \n",
    "\n",
    "# instantiate the dataframe\n",
    "neighborhoods = pd.DataFrame(columns=column_names)"
   ]
  },
  {
   "cell_type": "code",
   "execution_count": 6,
   "metadata": {},
   "outputs": [],
   "source": [
    "neighborhoods_data = newyork_data['features']\n",
    "for data in neighborhoods_data:\n",
    "    borough = neighborhood_name = data['properties']['borough'] \n",
    "    neighborhood_name = data['properties']['name']\n",
    "        \n",
    "    neighborhood_latlon = data['geometry']['coordinates']\n",
    "    neighborhood_lat = neighborhood_latlon[1]\n",
    "    neighborhood_lon = neighborhood_latlon[0]\n",
    "    \n",
    "    neighborhoods = neighborhoods.append({'Borough': borough,\n",
    "                                          'Neighborhood': neighborhood_name,\n",
    "                                          'Latitude': neighborhood_lat,\n",
    "                                          'Longitude': neighborhood_lon}, ignore_index=True)"
   ]
  },
  {
   "cell_type": "code",
   "execution_count": 8,
   "metadata": {
    "scrolled": true
   },
   "outputs": [
    {
     "data": {
      "text/html": [
       "<div>\n",
       "<style scoped>\n",
       "    .dataframe tbody tr th:only-of-type {\n",
       "        vertical-align: middle;\n",
       "    }\n",
       "\n",
       "    .dataframe tbody tr th {\n",
       "        vertical-align: top;\n",
       "    }\n",
       "\n",
       "    .dataframe thead th {\n",
       "        text-align: right;\n",
       "    }\n",
       "</style>\n",
       "<table border=\"1\" class=\"dataframe\">\n",
       "  <thead>\n",
       "    <tr style=\"text-align: right;\">\n",
       "      <th></th>\n",
       "      <th>Borough</th>\n",
       "      <th>Neighborhood</th>\n",
       "      <th>Latitude</th>\n",
       "      <th>Longitude</th>\n",
       "    </tr>\n",
       "  </thead>\n",
       "  <tbody>\n",
       "    <tr>\n",
       "      <th>0</th>\n",
       "      <td>Brooklyn</td>\n",
       "      <td>Bay Ridge</td>\n",
       "      <td>40.625801</td>\n",
       "      <td>-74.030621</td>\n",
       "    </tr>\n",
       "    <tr>\n",
       "      <th>1</th>\n",
       "      <td>Brooklyn</td>\n",
       "      <td>Bensonhurst</td>\n",
       "      <td>40.611009</td>\n",
       "      <td>-73.995180</td>\n",
       "    </tr>\n",
       "    <tr>\n",
       "      <th>2</th>\n",
       "      <td>Brooklyn</td>\n",
       "      <td>Sunset Park</td>\n",
       "      <td>40.645103</td>\n",
       "      <td>-74.010316</td>\n",
       "    </tr>\n",
       "    <tr>\n",
       "      <th>3</th>\n",
       "      <td>Brooklyn</td>\n",
       "      <td>Greenpoint</td>\n",
       "      <td>40.730201</td>\n",
       "      <td>-73.954241</td>\n",
       "    </tr>\n",
       "    <tr>\n",
       "      <th>4</th>\n",
       "      <td>Brooklyn</td>\n",
       "      <td>Gravesend</td>\n",
       "      <td>40.595260</td>\n",
       "      <td>-73.973471</td>\n",
       "    </tr>\n",
       "  </tbody>\n",
       "</table>\n",
       "</div>"
      ],
      "text/plain": [
       "    Borough Neighborhood   Latitude  Longitude\n",
       "0  Brooklyn    Bay Ridge  40.625801 -74.030621\n",
       "1  Brooklyn  Bensonhurst  40.611009 -73.995180\n",
       "2  Brooklyn  Sunset Park  40.645103 -74.010316\n",
       "3  Brooklyn   Greenpoint  40.730201 -73.954241\n",
       "4  Brooklyn    Gravesend  40.595260 -73.973471"
      ]
     },
     "execution_count": 8,
     "metadata": {},
     "output_type": "execute_result"
    }
   ],
   "source": [
    "brooklyn_data = neighborhoods[neighborhoods['Borough'] == 'Brooklyn'].reset_index(drop=True)\n",
    "brooklyn_data.head()"
   ]
  },
  {
   "cell_type": "markdown",
   "metadata": {},
   "source": [
    "# the data is about Brooklyn neighborhoods and the their locations i will use this data to search and explore venues that has many coffe shops and then decide \n",
    "# where can we open a barand new coffee shop in the best area that is suitable for this kind of business the source of data is NYU and foursqaure Api that i will\n",
    "# use in the application."
   ]
  },
  {
   "cell_type": "code",
   "execution_count": 9,
   "metadata": {},
   "outputs": [
    {
     "name": "stdout",
     "output_type": "stream",
     "text": [
      "40.6501038 -73.9495823\n"
     ]
    }
   ],
   "source": [
    "address = 'Brooklyn, NY'\n",
    "\n",
    "geolocator = Nominatim(user_agent=\"ny_explorer\")\n",
    "location = geolocator.geocode(address)\n",
    "latitude = location.latitude\n",
    "longitude = location.longitude\n",
    "print(latitude, longitude)"
   ]
  },
  {
   "cell_type": "code",
   "execution_count": 10,
   "metadata": {},
   "outputs": [
    {
     "data": {
      "text/html": [
       "<div style=\"width:100%;\"><div style=\"position:relative;width:100%;height:0;padding-bottom:60%;\"><iframe src=\"data:text/html;charset=utf-8;base64,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\" style=\"position:absolute;width:100%;height:100%;left:0;top:0;border:none !important;\" allowfullscreen webkitallowfullscreen mozallowfullscreen></iframe></div></div>"
      ],
      "text/plain": [
       "<folium.folium.Map at 0x7f7a99320cf8>"
      ]
     },
     "execution_count": 10,
     "metadata": {},
     "output_type": "execute_result"
    }
   ],
   "source": [
    "map_brook = folium.Map(location=[latitude, longitude], zoom_start=11)\n",
    "\n",
    "# add markers to map\n",
    "for lat, lng, label in zip(brooklyn_data['Latitude'], brooklyn_data['Longitude'], brooklyn_data['Neighborhood']):\n",
    "    label = folium.Popup(label, parse_html=True)\n",
    "    folium.CircleMarker(\n",
    "        [lat, lng],\n",
    "        radius=5,\n",
    "        popup=label,\n",
    "        color='blue',\n",
    "        fill=True,\n",
    "        fill_color='#3186cc',\n",
    "        fill_opacity=0.7,\n",
    "        parse_html=False).add_to(map_brook)  \n",
    "    \n",
    "map_brook"
   ]
  },
  {
   "cell_type": "code",
   "execution_count": 11,
   "metadata": {},
   "outputs": [
    {
     "name": "stdout",
     "output_type": "stream",
     "text": [
      "Your credentails:\n",
      "CLIENT_ID: KCLDKZZCGP3UKEEJGF3GXOVOG23LWPVE2QZRXUHFKS55D0HJ\n",
      "CLIENT_SECRET:AE3BUGIIJ1J44GSAIUJOUK0CQKJ1YPZO4QJ5EZ5KOSP0UAII\n"
     ]
    }
   ],
   "source": [
    "CLIENT_ID = 'KCLDKZZCGP3UKEEJGF3GXOVOG23LWPVE2QZRXUHFKS55D0HJ' # your Foursquare ID\n",
    "CLIENT_SECRET = 'AE3BUGIIJ1J44GSAIUJOUK0CQKJ1YPZO4QJ5EZ5KOSP0UAII' # your Foursquare Secret\n",
    "VERSION = '20180605' # Foursquare API version\n",
    "\n",
    "print('Your credentails:')\n",
    "print('CLIENT_ID: ' + CLIENT_ID)\n",
    "print('CLIENT_SECRET:' + CLIENT_SECRET)"
   ]
  },
  {
   "cell_type": "code",
   "execution_count": 12,
   "metadata": {},
   "outputs": [],
   "source": [
    "LIMIT = 100 # limit of number of venues returned by Foursquare API\n",
    "\n",
    "\n",
    "\n",
    "radius = 500 # define radius\n"
   ]
  },
  {
   "cell_type": "code",
   "execution_count": 13,
   "metadata": {},
   "outputs": [],
   "source": [
    "def getNearbyVenues(names, latitudes, longitudes, radius=500):\n",
    "    \n",
    "    venues_list=[]\n",
    "    for name, lat, lng in zip(names, latitudes, longitudes):\n",
    "        print(name)\n",
    "            \n",
    "        # create the API request URL\n",
    "        url = 'https://api.foursquare.com/v2/venues/explore?&client_id={}&client_secret={}&v={}&ll={},{}&radius={}&limit={}'.format(\n",
    "            CLIENT_ID, \n",
    "            CLIENT_SECRET, \n",
    "            VERSION, \n",
    "            lat, \n",
    "            lng, \n",
    "            radius, \n",
    "            LIMIT)\n",
    "            \n",
    "        # make the GET request\n",
    "        results = requests.get(url).json()[\"response\"]['groups'][0]['items']\n",
    "        \n",
    "        # return only relevant information for each nearby venue\n",
    "        venues_list.append([(\n",
    "            name, \n",
    "            lat, \n",
    "            lng, \n",
    "            v['venue']['name'], \n",
    "            v['venue']['location']['lat'], \n",
    "            v['venue']['location']['lng'],  \n",
    "            v['venue']['categories'][0]['name']) for v in results])\n",
    "\n",
    "    nearby_venues = pd.DataFrame([item for venue_list in venues_list for item in venue_list])\n",
    "    nearby_venues.columns = ['Neighborhood', \n",
    "                  'Neighborhood Latitude', \n",
    "                  'Neighborhood Longitude', \n",
    "                  'Venue', \n",
    "                  'Venue Latitude', \n",
    "                  'Venue Longitude', \n",
    "                  'Venue Category']\n",
    "    \n",
    "    return(nearby_venues)"
   ]
  },
  {
   "cell_type": "code",
   "execution_count": 39,
   "metadata": {},
   "outputs": [
    {
     "name": "stdout",
     "output_type": "stream",
     "text": [
      "Bay Ridge\n",
      "Bensonhurst\n",
      "Sunset Park\n",
      "Greenpoint\n",
      "Gravesend\n",
      "Brighton Beach\n",
      "Sheepshead Bay\n",
      "Manhattan Terrace\n",
      "Flatbush\n",
      "Crown Heights\n",
      "East Flatbush\n",
      "Kensington\n",
      "Windsor Terrace\n",
      "Prospect Heights\n",
      "Brownsville\n",
      "Williamsburg\n",
      "Bushwick\n",
      "Bedford Stuyvesant\n",
      "Brooklyn Heights\n",
      "Cobble Hill\n",
      "Carroll Gardens\n",
      "Red Hook\n",
      "Gowanus\n",
      "Fort Greene\n",
      "Park Slope\n",
      "Cypress Hills\n",
      "East New York\n",
      "Starrett City\n",
      "Canarsie\n",
      "Flatlands\n",
      "Mill Island\n",
      "Manhattan Beach\n",
      "Coney Island\n",
      "Bath Beach\n",
      "Borough Park\n",
      "Dyker Heights\n",
      "Gerritsen Beach\n",
      "Marine Park\n",
      "Clinton Hill\n",
      "Sea Gate\n",
      "Downtown\n",
      "Boerum Hill\n",
      "Prospect Lefferts Gardens\n",
      "Ocean Hill\n",
      "City Line\n",
      "Bergen Beach\n",
      "Midwood\n",
      "Prospect Park South\n",
      "Georgetown\n",
      "East Williamsburg\n",
      "North Side\n",
      "South Side\n",
      "Ocean Parkway\n",
      "Fort Hamilton\n",
      "Ditmas Park\n",
      "Wingate\n",
      "Rugby\n",
      "Remsen Village\n",
      "New Lots\n",
      "Paerdegat Basin\n",
      "Mill Basin\n",
      "Fulton Ferry\n",
      "Vinegar Hill\n",
      "Weeksville\n",
      "Broadway Junction\n",
      "Dumbo\n",
      "Homecrest\n",
      "Highland Park\n",
      "Madison\n",
      "Erasmus\n"
     ]
    }
   ],
   "source": [
    "brook_venues = getNearbyVenues(names=brooklyn_data['Neighborhood'],\n",
    "                                   latitudes=brooklyn_data['Latitude'],\n",
    "                                   longitudes=brooklyn_data['Longitude']\n",
    "                                  )\n"
   ]
  },
  {
   "cell_type": "code",
   "execution_count": 48,
   "metadata": {},
   "outputs": [],
   "source": [
    "df1 = brook_venues[brook_venues['Venue Category'].str.contains('Coffee')]"
   ]
  },
  {
   "cell_type": "code",
   "execution_count": 52,
   "metadata": {},
   "outputs": [],
   "source": [
    "df2 = df1['Neighborhood'].value_counts()"
   ]
  },
  {
   "cell_type": "code",
   "execution_count": 53,
   "metadata": {},
   "outputs": [
    {
     "data": {
      "text/plain": [
       "North Side            6\n",
       "South Side            5\n",
       "Dumbo                 5\n",
       "Greenpoint            5\n",
       "Bushwick              5\n",
       "Carroll Gardens       5\n",
       "East Williamsburg     4\n",
       "Cobble Hill           4\n",
       "Boerum Hill           4\n",
       "Park Slope            4\n",
       "Downtown              3\n",
       "Fort Greene           3\n",
       "Brooklyn Heights      2\n",
       "Williamsburg          2\n",
       "Bedford Stuyvesant    2\n",
       "Prospect Heights      2\n",
       "Fulton Ferry          2\n",
       "Gowanus               2\n",
       "Vinegar Hill          2\n",
       "Flatbush              2\n",
       "Brighton Beach        1\n",
       "City Line             1\n",
       "Manhattan Terrace     1\n",
       "Ocean Hill            1\n",
       "Borough Park          1\n",
       "Bensonhurst           1\n",
       "Georgetown            1\n",
       "Windsor Terrace       1\n",
       "Crown Heights         1\n",
       "Ditmas Park           1\n",
       "Bath Beach            1\n",
       "Rugby                 1\n",
       "Red Hook              1\n",
       "Bay Ridge             1\n",
       "Name: Neighborhood, dtype: int64"
      ]
     },
     "execution_count": 53,
     "metadata": {},
     "output_type": "execute_result"
    }
   ],
   "source": [
    "df2"
   ]
  },
  {
   "cell_type": "code",
   "execution_count": 54,
   "metadata": {},
   "outputs": [],
   "source": [
    "df3 = df1[df1['Neighborhood'].str.contains('North')]"
   ]
  },
  {
   "cell_type": "code",
   "execution_count": 55,
   "metadata": {},
   "outputs": [
    {
     "data": {
      "text/html": [
       "<div>\n",
       "<style scoped>\n",
       "    .dataframe tbody tr th:only-of-type {\n",
       "        vertical-align: middle;\n",
       "    }\n",
       "\n",
       "    .dataframe tbody tr th {\n",
       "        vertical-align: top;\n",
       "    }\n",
       "\n",
       "    .dataframe thead th {\n",
       "        text-align: right;\n",
       "    }\n",
       "</style>\n",
       "<table border=\"1\" class=\"dataframe\">\n",
       "  <thead>\n",
       "    <tr style=\"text-align: right;\">\n",
       "      <th></th>\n",
       "      <th>Neighborhood</th>\n",
       "      <th>Neighborhood Latitude</th>\n",
       "      <th>Neighborhood Longitude</th>\n",
       "      <th>Venue</th>\n",
       "      <th>Venue Latitude</th>\n",
       "      <th>Venue Longitude</th>\n",
       "      <th>Venue Category</th>\n",
       "    </tr>\n",
       "  </thead>\n",
       "  <tbody>\n",
       "    <tr>\n",
       "      <th>2098</th>\n",
       "      <td>North Side</td>\n",
       "      <td>40.714823</td>\n",
       "      <td>-73.958809</td>\n",
       "      <td>Sweatshop</td>\n",
       "      <td>40.715090</td>\n",
       "      <td>-73.959734</td>\n",
       "      <td>Coffee Shop</td>\n",
       "    </tr>\n",
       "    <tr>\n",
       "      <th>2135</th>\n",
       "      <td>North Side</td>\n",
       "      <td>40.714823</td>\n",
       "      <td>-73.958809</td>\n",
       "      <td>Black Brick</td>\n",
       "      <td>40.714185</td>\n",
       "      <td>-73.961557</td>\n",
       "      <td>Coffee Shop</td>\n",
       "    </tr>\n",
       "    <tr>\n",
       "      <th>2145</th>\n",
       "      <td>North Side</td>\n",
       "      <td>40.714823</td>\n",
       "      <td>-73.958809</td>\n",
       "      <td>Blue Bottle Coffee</td>\n",
       "      <td>40.716921</td>\n",
       "      <td>-73.960963</td>\n",
       "      <td>Coffee Shop</td>\n",
       "    </tr>\n",
       "    <tr>\n",
       "      <th>2158</th>\n",
       "      <td>North Side</td>\n",
       "      <td>40.714823</td>\n",
       "      <td>-73.958809</td>\n",
       "      <td>ppl</td>\n",
       "      <td>40.712942</td>\n",
       "      <td>-73.958650</td>\n",
       "      <td>Coffee Shop</td>\n",
       "    </tr>\n",
       "    <tr>\n",
       "      <th>2172</th>\n",
       "      <td>North Side</td>\n",
       "      <td>40.714823</td>\n",
       "      <td>-73.958809</td>\n",
       "      <td>Oslo Coffee</td>\n",
       "      <td>40.714725</td>\n",
       "      <td>-73.957043</td>\n",
       "      <td>Coffee Shop</td>\n",
       "    </tr>\n",
       "    <tr>\n",
       "      <th>2185</th>\n",
       "      <td>North Side</td>\n",
       "      <td>40.714823</td>\n",
       "      <td>-73.958809</td>\n",
       "      <td>Lion's Milk</td>\n",
       "      <td>40.715833</td>\n",
       "      <td>-73.955705</td>\n",
       "      <td>Coffee Shop</td>\n",
       "    </tr>\n",
       "  </tbody>\n",
       "</table>\n",
       "</div>"
      ],
      "text/plain": [
       "     Neighborhood  Neighborhood Latitude  Neighborhood Longitude  \\\n",
       "2098   North Side              40.714823              -73.958809   \n",
       "2135   North Side              40.714823              -73.958809   \n",
       "2145   North Side              40.714823              -73.958809   \n",
       "2158   North Side              40.714823              -73.958809   \n",
       "2172   North Side              40.714823              -73.958809   \n",
       "2185   North Side              40.714823              -73.958809   \n",
       "\n",
       "                   Venue  Venue Latitude  Venue Longitude Venue Category  \n",
       "2098           Sweatshop       40.715090       -73.959734    Coffee Shop  \n",
       "2135         Black Brick       40.714185       -73.961557    Coffee Shop  \n",
       "2145  Blue Bottle Coffee       40.716921       -73.960963    Coffee Shop  \n",
       "2158                 ppl       40.712942       -73.958650    Coffee Shop  \n",
       "2172         Oslo Coffee       40.714725       -73.957043    Coffee Shop  \n",
       "2185         Lion's Milk       40.715833       -73.955705    Coffee Shop  "
      ]
     },
     "execution_count": 55,
     "metadata": {},
     "output_type": "execute_result"
    }
   ],
   "source": [
    "df3"
   ]
  },
  {
   "cell_type": "code",
   "execution_count": 65,
   "metadata": {},
   "outputs": [
    {
     "data": {
      "text/html": [
       "<div style=\"width:100%;\"><div style=\"position:relative;width:100%;height:0;padding-bottom:60%;\"><iframe src=\"data:text/html;charset=utf-8;base64,PCFET0NUWVBFIGh0bWw+CjxoZWFkPiAgICAKICAgIDxtZXRhIGh0dHAtZXF1aXY9ImNvbnRlbnQtdHlwZSIgY29udGVudD0idGV4dC9odG1sOyBjaGFyc2V0PVVURi04IiAvPgogICAgPHNjcmlwdD5MX1BSRUZFUl9DQU5WQVMgPSBmYWxzZTsgTF9OT19UT1VDSCA9IGZhbHNlOyBMX0RJU0FCTEVfM0QgPSBmYWxzZTs8L3NjcmlwdD4KICAgIDxzY3JpcHQgc3JjPSJodHRwczovL2Nkbi5qc2RlbGl2ci5uZXQvbnBtL2xlYWZsZXRAMS4yLjAvZGlzdC9sZWFmbGV0LmpzIj48L3NjcmlwdD4KICAgIDxzY3JpcHQgc3JjPSJodHRwczovL2FqYXguZ29vZ2xlYXBpcy5jb20vYWpheC9saWJzL2pxdWVyeS8xLjExLjEvanF1ZXJ5Lm1pbi5qcyI+PC9zY3JpcHQ+CiAgICA8c2NyaXB0IHNyYz0iaHR0cHM6Ly9tYXhjZG4uYm9vdHN0cmFwY2RuLmNvbS9ib290c3RyYXAvMy4yLjAvanMvYm9vdHN0cmFwLm1pbi5qcyI+PC9zY3JpcHQ+CiAgICA8c2NyaXB0IHNyYz0iaHR0cHM6Ly9jZG5qcy5jbG91ZGZsYXJlLmNvbS9hamF4L2xpYnMvTGVhZmxldC5hd2Vzb21lLW1hcmtlcnMvMi4wLjIvbGVhZmxldC5hd2Vzb21lLW1hcmtlcnMuanMiPjwvc2NyaXB0PgogICAgPGxpbmsgcmVsPSJzdHlsZXNoZWV0IiBocmVmPSJodHRwczovL2Nkbi5qc2RlbGl2ci5uZXQvbnBtL2xlYWZsZXRAMS4yLjAvZGlzdC9sZWFmbGV0LmNzcyIvPgogICAgPGxpbmsgcmVsPSJzdHlsZXNoZWV0IiBocmVmPSJodHRwczovL21heGNkbi5ib290c3RyYXBjZG4uY29tL2Jvb3RzdHJhcC8zLjIuMC9jc3MvYm9vdHN0cmFwLm1pbi5jc3MiLz4KICAgIDxsaW5rIHJlbD0ic3R5bGVzaGVldCIgaHJlZj0iaHR0cHM6Ly9tYXhjZG4uYm9vdHN0cmFwY2RuLmNvbS9ib290c3RyYXAvMy4yLjAvY3NzL2Jvb3RzdHJhcC10aGVtZS5taW4uY3NzIi8+CiAgICA8bGluayByZWw9InN0eWxlc2hlZXQiIGhyZWY9Imh0dHBzOi8vbWF4Y2RuLmJvb3RzdHJhcGNkbi5jb20vZm9udC1hd2Vzb21lLzQuNi4zL2Nzcy9mb250LWF3ZXNvbWUubWluLmNzcyIvPgogICAgPGxpbmsgcmVsPSJzdHlsZXNoZWV0IiBocmVmPSJodHRwczovL2NkbmpzLmNsb3VkZmxhcmUuY29tL2FqYXgvbGlicy9MZWFmbGV0LmF3ZXNvbWUtbWFya2Vycy8yLjAuMi9sZWFmbGV0LmF3ZXNvbWUtbWFya2Vycy5jc3MiLz4KICAgIDxsaW5rIHJlbD0ic3R5bGVzaGVldCIgaHJlZj0iaHR0cHM6Ly9yYXdnaXQuY29tL3B5dGhvbi12aXN1YWxpemF0aW9uL2ZvbGl1bS9tYXN0ZXIvZm9saXVtL3RlbXBsYXRlcy9sZWFmbGV0LmF3ZXNvbWUucm90YXRlLmNzcyIvPgogICAgPHN0eWxlPmh0bWwsIGJvZHkge3dpZHRoOiAxMDAlO2hlaWdodDogMTAwJTttYXJnaW46IDA7cGFkZGluZzogMDt9PC9zdHlsZT4KICAgIDxzdHlsZT4jbWFwIHtwb3NpdGlvbjphYnNvbHV0ZTt0b3A6MDtib3R0b206MDtyaWdodDowO2xlZnQ6MDt9PC9zdHlsZT4KICAgIAogICAgICAgICAgICA8c3R5bGU+ICNtYXBfZDY2NmIxOTNmMGE2NGYyMWI2ODM0YmQyMjZkNjU1NjAgewogICAgICAgICAgICAgICAgcG9zaXRpb24gOiByZWxhdGl2ZTsKICAgICAgICAgICAgICAgIHdpZHRoIDogMTAwLjAlOwogICAgICAgICAgICAgICAgaGVpZ2h0OiAxMDAuMCU7CiAgICAgICAgICAgICAgICBsZWZ0OiAwLjAlOwogICAgICAgICAgICAgICAgdG9wOiAwLjAlOwogICAgICAgICAgICAgICAgfQogICAgICAgICAgICA8L3N0eWxlPgogICAgICAgIAo8L2hlYWQ+Cjxib2R5PiAgICAKICAgIAogICAgICAgICAgICA8ZGl2IGNsYXNzPSJmb2xpdW0tbWFwIiBpZD0ibWFwX2Q2NjZiMTkzZjBhNjRmMjFiNjgzNGJkMjI2ZDY1NTYwIiA+PC9kaXY+CiAgICAgICAgCjwvYm9keT4KPHNjcmlwdD4gICAgCiAgICAKCiAgICAgICAgICAgIAogICAgICAgICAgICAgICAgdmFyIGJvdW5kcyA9IG51bGw7CiAgICAgICAgICAgIAoKICAgICAgICAgICAgdmFyIG1hcF9kNjY2YjE5M2YwYTY0ZjIxYjY4MzRiZDIyNmQ2NTU2MCA9IEwubWFwKAogICAgICAgICAgICAgICAgICAgICAgICAgICAgICAgICAgJ21hcF9kNjY2YjE5M2YwYTY0ZjIxYjY4MzRiZDIyNmQ2NTU2MCcsCiAgICAgICAgICAgICAgICAgICAgICAgICAgICAgICAgICB7Y2VudGVyOiBbNDAuNjUwMTAzOCwtNzMuOTQ5NTgyM10sCiAgICAgICAgICAgICAgICAgICAgICAgICAgICAgICAgICB6b29tOiAxMywKICAgICAgICAgICAgICAgICAgICAgICAgICAgICAgICAgIG1heEJvdW5kczogYm91bmRzLAogICAgICAgICAgICAgICAgICAgICAgICAgICAgICAgICAgbGF5ZXJzOiBbXSwKICAgICAgICAgICAgICAgICAgICAgICAgICAgICAgICAgIHdvcmxkQ29weUp1bXA6IGZhbHNlLAogICAgICAgICAgICAgICAgICAgICAgICAgICAgICAgICAgY3JzOiBMLkNSUy5FUFNHMzg1NwogICAgICAgICAgICAgICAgICAgICAgICAgICAgICAgICB9KTsKICAgICAgICAgICAgCiAgICAgICAgCiAgICAKICAgICAgICAgICAgdmFyIHRpbGVfbGF5ZXJfNzcyMWQ2OTdlNmE3NGVkNTk2MGM5MTgxMjQxOThkYmMgPSBMLnRpbGVMYXllcigKICAgICAgICAgICAgICAgICdodHRwczovL3tzfS50aWxlLm9wZW5zdHJlZXRtYXAub3JnL3t6fS97eH0ve3l9LnBuZycsCiAgICAgICAgICAgICAgICB7CiAgImF0dHJpYnV0aW9uIjogbnVsbCwKICAiZGV0ZWN0UmV0aW5hIjogZmFsc2UsCiAgIm1heFpvb20iOiAxOCwKICAibWluWm9vbSI6IDEsCiAgIm5vV3JhcCI6IGZhbHNlLAogICJzdWJkb21haW5zIjogImFiYyIKfQogICAgICAgICAgICAgICAgKS5hZGRUbyhtYXBfZDY2NmIxOTNmMGE2NGYyMWI2ODM0YmQyMjZkNjU1NjApOwogICAgICAgIAogICAgCiAgICAgICAgICAgIHZhciBjaXJjbGVfbWFya2VyXzQ0ZmNjMWU2Yzc3NTQ2M2E4NDkzMjNmMmY0NjFiY2MyID0gTC5jaXJjbGVNYXJrZXIoCiAgICAgICAgICAgICAgICBbNDAuNzE1MDg5ODY4ODA1OTI2LC03My45NTk3MzM3NDg4MzI1OV0sCiAgICAgICAgICAgICAgICB7CiAgImJ1YmJsaW5nTW91c2VFdmVudHMiOiB0cnVlLAogICJjb2xvciI6ICJibHVlIiwKICAiZGFzaEFycmF5IjogbnVsbCwKICAiZGFzaE9mZnNldCI6IG51bGwsCiAgImZpbGwiOiB0cnVlLAogICJmaWxsQ29sb3IiOiAiIzMxODZjYyIsCiAgImZpbGxPcGFjaXR5IjogMC43LAogICJmaWxsUnVsZSI6ICJldmVub2RkIiwKICAibGluZUNhcCI6ICJyb3VuZCIsCiAgImxpbmVKb2luIjogInJvdW5kIiwKICAib3BhY2l0eSI6IDEuMCwKICAicmFkaXVzIjogNSwKICAic3Ryb2tlIjogdHJ1ZSwKICAid2VpZ2h0IjogMwp9CiAgICAgICAgICAgICAgICApLmFkZFRvKG1hcF9kNjY2YjE5M2YwYTY0ZjIxYjY4MzRiZDIyNmQ2NTU2MCk7CiAgICAgICAgICAgIAogICAgCiAgICAgICAgICAgIHZhciBwb3B1cF83OWY5OTVmYjNhMzc0OWRjYTk3ZjYwMDMzZmM2ODRiMyA9IEwucG9wdXAoe21heFdpZHRoOiAnMzAwJ30pOwoKICAgICAgICAgICAgCiAgICAgICAgICAgICAgICB2YXIgaHRtbF8yZDZmOTI2YjcxNzE0YTI2OGVlYmZhODU1ZGFmZTRjYSA9ICQoJzxkaXYgaWQ9Imh0bWxfMmQ2ZjkyNmI3MTcxNGEyNjhlZWJmYTg1NWRhZmU0Y2EiIHN0eWxlPSJ3aWR0aDogMTAwLjAlOyBoZWlnaHQ6IDEwMC4wJTsiPk5vcnRoIFNpZGU8L2Rpdj4nKVswXTsKICAgICAgICAgICAgICAgIHBvcHVwXzc5Zjk5NWZiM2EzNzQ5ZGNhOTdmNjAwMzNmYzY4NGIzLnNldENvbnRlbnQoaHRtbF8yZDZmOTI2YjcxNzE0YTI2OGVlYmZhODU1ZGFmZTRjYSk7CiAgICAgICAgICAgIAoKICAgICAgICAgICAgY2lyY2xlX21hcmtlcl80NGZjYzFlNmM3NzU0NjNhODQ5MzIzZjJmNDYxYmNjMi5iaW5kUG9wdXAocG9wdXBfNzlmOTk1ZmIzYTM3NDlkY2E5N2Y2MDAzM2ZjNjg0YjMpOwoKICAgICAgICAgICAgCiAgICAgICAgCiAgICAKICAgICAgICAgICAgdmFyIGNpcmNsZV9tYXJrZXJfYmIxODdlZTcwMjRkNDBmN2FjMzc2MzhjY2Q2YjMzZjMgPSBMLmNpcmNsZU1hcmtlcigKICAgICAgICAgICAgICAgIFs0MC43MTQxODQ1Nzc3NDkzODYsLTczLjk2MTU1NzM1ODY3Mjk2XSwKICAgICAgICAgICAgICAgIHsKICAiYnViYmxpbmdNb3VzZUV2ZW50cyI6IHRydWUsCiAgImNvbG9yIjogImJsdWUiLAogICJkYXNoQXJyYXkiOiBudWxsLAogICJkYXNoT2Zmc2V0IjogbnVsbCwKICAiZmlsbCI6IHRydWUsCiAgImZpbGxDb2xvciI6ICIjMzE4NmNjIiwKICAiZmlsbE9wYWNpdHkiOiAwLjcsCiAgImZpbGxSdWxlIjogImV2ZW5vZGQiLAogICJsaW5lQ2FwIjogInJvdW5kIiwKICAibGluZUpvaW4iOiAicm91bmQiLAogICJvcGFjaXR5IjogMS4wLAogICJyYWRpdXMiOiA1LAogICJzdHJva2UiOiB0cnVlLAogICJ3ZWlnaHQiOiAzCn0KICAgICAgICAgICAgICAgICkuYWRkVG8obWFwX2Q2NjZiMTkzZjBhNjRmMjFiNjgzNGJkMjI2ZDY1NTYwKTsKICAgICAgICAgICAgCiAgICAKICAgICAgICAgICAgdmFyIHBvcHVwXzYxZjg1NWM4Y2Q4NTRhZDU4ZTAzMGQxYTkwZDg1MDc4ID0gTC5wb3B1cCh7bWF4V2lkdGg6ICczMDAnfSk7CgogICAgICAgICAgICAKICAgICAgICAgICAgICAgIHZhciBodG1sXzE2NzZlOWRjYWNjZTQ1YjZhYzM4Y2Q2OGI3MmM1ZDc2ID0gJCgnPGRpdiBpZD0iaHRtbF8xNjc2ZTlkY2FjY2U0NWI2YWMzOGNkNjhiNzJjNWQ3NiIgc3R5bGU9IndpZHRoOiAxMDAuMCU7IGhlaWdodDogMTAwLjAlOyI+Tm9ydGggU2lkZTwvZGl2PicpWzBdOwogICAgICAgICAgICAgICAgcG9wdXBfNjFmODU1YzhjZDg1NGFkNThlMDMwZDFhOTBkODUwNzguc2V0Q29udGVudChodG1sXzE2NzZlOWRjYWNjZTQ1YjZhYzM4Y2Q2OGI3MmM1ZDc2KTsKICAgICAgICAgICAgCgogICAgICAgICAgICBjaXJjbGVfbWFya2VyX2JiMTg3ZWU3MDI0ZDQwZjdhYzM3NjM4Y2NkNmIzM2YzLmJpbmRQb3B1cChwb3B1cF82MWY4NTVjOGNkODU0YWQ1OGUwMzBkMWE5MGQ4NTA3OCk7CgogICAgICAgICAgICAKICAgICAgICAKICAgIAogICAgICAgICAgICB2YXIgY2lyY2xlX21hcmtlcl85NTIwMzczM2MwZGY0NDYyYWJiZGE3ZjZmOWJkMzIxNiA9IEwuY2lyY2xlTWFya2VyKAogICAgICAgICAgICAgICAgWzQwLjcxNjkyMTQ0NDAyNjk2LC03My45NjA5NjMyNTIyNTIwOV0sCiAgICAgICAgICAgICAgICB7CiAgImJ1YmJsaW5nTW91c2VFdmVudHMiOiB0cnVlLAogICJjb2xvciI6ICJibHVlIiwKICAiZGFzaEFycmF5IjogbnVsbCwKICAiZGFzaE9mZnNldCI6IG51bGwsCiAgImZpbGwiOiB0cnVlLAogICJmaWxsQ29sb3IiOiAiIzMxODZjYyIsCiAgImZpbGxPcGFjaXR5IjogMC43LAogICJmaWxsUnVsZSI6ICJldmVub2RkIiwKICAibGluZUNhcCI6ICJyb3VuZCIsCiAgImxpbmVKb2luIjogInJvdW5kIiwKICAib3BhY2l0eSI6IDEuMCwKICAicmFkaXVzIjogNSwKICAic3Ryb2tlIjogdHJ1ZSwKICAid2VpZ2h0IjogMwp9CiAgICAgICAgICAgICAgICApLmFkZFRvKG1hcF9kNjY2YjE5M2YwYTY0ZjIxYjY4MzRiZDIyNmQ2NTU2MCk7CiAgICAgICAgICAgIAogICAgCiAgICAgICAgICAgIHZhciBwb3B1cF83N2QyZTlkNTE4MzE0NzNjYTJkNTc5YWQyOGI4ZGFmOCA9IEwucG9wdXAoe21heFdpZHRoOiAnMzAwJ30pOwoKICAgICAgICAgICAgCiAgICAgICAgICAgICAgICB2YXIgaHRtbF8yMWQ2NjAxYWVjYmU0NmRmYWJlMjg1NTU3MDViZjgzMSA9ICQoJzxkaXYgaWQ9Imh0bWxfMjFkNjYwMWFlY2JlNDZkZmFiZTI4NTU1NzA1YmY4MzEiIHN0eWxlPSJ3aWR0aDogMTAwLjAlOyBoZWlnaHQ6IDEwMC4wJTsiPk5vcnRoIFNpZGU8L2Rpdj4nKVswXTsKICAgICAgICAgICAgICAgIHBvcHVwXzc3ZDJlOWQ1MTgzMTQ3M2NhMmQ1NzlhZDI4YjhkYWY4LnNldENvbnRlbnQoaHRtbF8yMWQ2NjAxYWVjYmU0NmRmYWJlMjg1NTU3MDViZjgzMSk7CiAgICAgICAgICAgIAoKICAgICAgICAgICAgY2lyY2xlX21hcmtlcl85NTIwMzczM2MwZGY0NDYyYWJiZGE3ZjZmOWJkMzIxNi5iaW5kUG9wdXAocG9wdXBfNzdkMmU5ZDUxODMxNDczY2EyZDU3OWFkMjhiOGRhZjgpOwoKICAgICAgICAgICAgCiAgICAgICAgCiAgICAKICAgICAgICAgICAgdmFyIGNpcmNsZV9tYXJrZXJfYWE4ZDkwNzRhNzQ0NGFhZGE4YzEyMmZhMzU5MjZhY2EgPSBMLmNpcmNsZU1hcmtlcigKICAgICAgICAgICAgICAgIFs0MC43MTI5NDIwNjI4NzY0NDQsLTczLjk1ODY1MDI5MDE2NTkzXSwKICAgICAgICAgICAgICAgIHsKICAiYnViYmxpbmdNb3VzZUV2ZW50cyI6IHRydWUsCiAgImNvbG9yIjogImJsdWUiLAogICJkYXNoQXJyYXkiOiBudWxsLAogICJkYXNoT2Zmc2V0IjogbnVsbCwKICAiZmlsbCI6IHRydWUsCiAgImZpbGxDb2xvciI6ICIjMzE4NmNjIiwKICAiZmlsbE9wYWNpdHkiOiAwLjcsCiAgImZpbGxSdWxlIjogImV2ZW5vZGQiLAogICJsaW5lQ2FwIjogInJvdW5kIiwKICAibGluZUpvaW4iOiAicm91bmQiLAogICJvcGFjaXR5IjogMS4wLAogICJyYWRpdXMiOiA1LAogICJzdHJva2UiOiB0cnVlLAogICJ3ZWlnaHQiOiAzCn0KICAgICAgICAgICAgICAgICkuYWRkVG8obWFwX2Q2NjZiMTkzZjBhNjRmMjFiNjgzNGJkMjI2ZDY1NTYwKTsKICAgICAgICAgICAgCiAgICAKICAgICAgICAgICAgdmFyIHBvcHVwXzkxNWFiZGVhMzUxZjQyNTJhZThhMmQ4ZDhkMjgzYjc4ID0gTC5wb3B1cCh7bWF4V2lkdGg6ICczMDAnfSk7CgogICAgICAgICAgICAKICAgICAgICAgICAgICAgIHZhciBodG1sX2U2NzY3ZjI3MGJkZjQxNmI5ZTY1MTA0OTkxMmU4MTE1ID0gJCgnPGRpdiBpZD0iaHRtbF9lNjc2N2YyNzBiZGY0MTZiOWU2NTEwNDk5MTJlODExNSIgc3R5bGU9IndpZHRoOiAxMDAuMCU7IGhlaWdodDogMTAwLjAlOyI+Tm9ydGggU2lkZTwvZGl2PicpWzBdOwogICAgICAgICAgICAgICAgcG9wdXBfOTE1YWJkZWEzNTFmNDI1MmFlOGEyZDhkOGQyODNiNzguc2V0Q29udGVudChodG1sX2U2NzY3ZjI3MGJkZjQxNmI5ZTY1MTA0OTkxMmU4MTE1KTsKICAgICAgICAgICAgCgogICAgICAgICAgICBjaXJjbGVfbWFya2VyX2FhOGQ5MDc0YTc0NDRhYWRhOGMxMjJmYTM1OTI2YWNhLmJpbmRQb3B1cChwb3B1cF85MTVhYmRlYTM1MWY0MjUyYWU4YTJkOGQ4ZDI4M2I3OCk7CgogICAgICAgICAgICAKICAgICAgICAKICAgIAogICAgICAgICAgICB2YXIgY2lyY2xlX21hcmtlcl9kNjdkZDgzNDM5YmY0N2FhYTRmYjU0YmRhOGVlYWI3ZiA9IEwuY2lyY2xlTWFya2VyKAogICAgICAgICAgICAgICAgWzQwLjcxNDcyNTQyMTA2MzcxLC03My45NTcwNDI1ODM2NDUzNl0sCiAgICAgICAgICAgICAgICB7CiAgImJ1YmJsaW5nTW91c2VFdmVudHMiOiB0cnVlLAogICJjb2xvciI6ICJibHVlIiwKICAiZGFzaEFycmF5IjogbnVsbCwKICAiZGFzaE9mZnNldCI6IG51bGwsCiAgImZpbGwiOiB0cnVlLAogICJmaWxsQ29sb3IiOiAiIzMxODZjYyIsCiAgImZpbGxPcGFjaXR5IjogMC43LAogICJmaWxsUnVsZSI6ICJldmVub2RkIiwKICAibGluZUNhcCI6ICJyb3VuZCIsCiAgImxpbmVKb2luIjogInJvdW5kIiwKICAib3BhY2l0eSI6IDEuMCwKICAicmFkaXVzIjogNSwKICAic3Ryb2tlIjogdHJ1ZSwKICAid2VpZ2h0IjogMwp9CiAgICAgICAgICAgICAgICApLmFkZFRvKG1hcF9kNjY2YjE5M2YwYTY0ZjIxYjY4MzRiZDIyNmQ2NTU2MCk7CiAgICAgICAgICAgIAogICAgCiAgICAgICAgICAgIHZhciBwb3B1cF8yMGMyNTJlYTc5NmY0MTAxYWI0NTRkOTQ3YjUzYmIzOCA9IEwucG9wdXAoe21heFdpZHRoOiAnMzAwJ30pOwoKICAgICAgICAgICAgCiAgICAgICAgICAgICAgICB2YXIgaHRtbF9hYmY2ZGQxMGE2NmE0ZGVlYjY4YzQ3YzU5NTdjMjdjYSA9ICQoJzxkaXYgaWQ9Imh0bWxfYWJmNmRkMTBhNjZhNGRlZWI2OGM0N2M1OTU3YzI3Y2EiIHN0eWxlPSJ3aWR0aDogMTAwLjAlOyBoZWlnaHQ6IDEwMC4wJTsiPk5vcnRoIFNpZGU8L2Rpdj4nKVswXTsKICAgICAgICAgICAgICAgIHBvcHVwXzIwYzI1MmVhNzk2ZjQxMDFhYjQ1NGQ5NDdiNTNiYjM4LnNldENvbnRlbnQoaHRtbF9hYmY2ZGQxMGE2NmE0ZGVlYjY4YzQ3YzU5NTdjMjdjYSk7CiAgICAgICAgICAgIAoKICAgICAgICAgICAgY2lyY2xlX21hcmtlcl9kNjdkZDgzNDM5YmY0N2FhYTRmYjU0YmRhOGVlYWI3Zi5iaW5kUG9wdXAocG9wdXBfMjBjMjUyZWE3OTZmNDEwMWFiNDU0ZDk0N2I1M2JiMzgpOwoKICAgICAgICAgICAgCiAgICAgICAgCiAgICAKICAgICAgICAgICAgdmFyIGNpcmNsZV9tYXJrZXJfNTRhNzhlMjhlYzBmNDU3YWFiNjkyNmIyMDVjMTY5NTQgPSBMLmNpcmNsZU1hcmtlcigKICAgICAgICAgICAgICAgIFs0MC43MTU4MzMzODE1ODAwMiwtNzMuOTU1NzA1MzM1MTE0OTRdLAogICAgICAgICAgICAgICAgewogICJidWJibGluZ01vdXNlRXZlbnRzIjogdHJ1ZSwKICAiY29sb3IiOiAiYmx1ZSIsCiAgImRhc2hBcnJheSI6IG51bGwsCiAgImRhc2hPZmZzZXQiOiBudWxsLAogICJmaWxsIjogdHJ1ZSwKICAiZmlsbENvbG9yIjogIiMzMTg2Y2MiLAogICJmaWxsT3BhY2l0eSI6IDAuNywKICAiZmlsbFJ1bGUiOiAiZXZlbm9kZCIsCiAgImxpbmVDYXAiOiAicm91bmQiLAogICJsaW5lSm9pbiI6ICJyb3VuZCIsCiAgIm9wYWNpdHkiOiAxLjAsCiAgInJhZGl1cyI6IDUsCiAgInN0cm9rZSI6IHRydWUsCiAgIndlaWdodCI6IDMKfQogICAgICAgICAgICAgICAgKS5hZGRUbyhtYXBfZDY2NmIxOTNmMGE2NGYyMWI2ODM0YmQyMjZkNjU1NjApOwogICAgICAgICAgICAKICAgIAogICAgICAgICAgICB2YXIgcG9wdXBfODRhMWQ5YjUwNzlkNDRlZmFkM2QxZjgwZDA1YzNkZDIgPSBMLnBvcHVwKHttYXhXaWR0aDogJzMwMCd9KTsKCiAgICAgICAgICAgIAogICAgICAgICAgICAgICAgdmFyIGh0bWxfZmYwMGEyMTBiYTA2NDgwODgyMmE2MzUxNjE5MTJlYTkgPSAkKCc8ZGl2IGlkPSJodG1sX2ZmMDBhMjEwYmEwNjQ4MDg4MjJhNjM1MTYxOTEyZWE5IiBzdHlsZT0id2lkdGg6IDEwMC4wJTsgaGVpZ2h0OiAxMDAuMCU7Ij5Ob3J0aCBTaWRlPC9kaXY+JylbMF07CiAgICAgICAgICAgICAgICBwb3B1cF84NGExZDliNTA3OWQ0NGVmYWQzZDFmODBkMDVjM2RkMi5zZXRDb250ZW50KGh0bWxfZmYwMGEyMTBiYTA2NDgwODgyMmE2MzUxNjE5MTJlYTkpOwogICAgICAgICAgICAKCiAgICAgICAgICAgIGNpcmNsZV9tYXJrZXJfNTRhNzhlMjhlYzBmNDU3YWFiNjkyNmIyMDVjMTY5NTQuYmluZFBvcHVwKHBvcHVwXzg0YTFkOWI1MDc5ZDQ0ZWZhZDNkMWY4MGQwNWMzZGQyKTsKCiAgICAgICAgICAgIAogICAgICAgIAo8L3NjcmlwdD4=\" style=\"position:absolute;width:100%;height:100%;left:0;top:0;border:none !important;\" allowfullscreen webkitallowfullscreen mozallowfullscreen></iframe></div></div>"
      ],
      "text/plain": [
       "<folium.folium.Map at 0x7f7a9adb19b0>"
      ]
     },
     "execution_count": 65,
     "metadata": {},
     "output_type": "execute_result"
    }
   ],
   "source": [
    "map_brook2 = folium.Map(location=[latitude, longitude], zoom_start=13)\n",
    "\n",
    "# add markers to map\n",
    "for lat, lng, label in zip(df3['Venue Latitude'], df3['Venue Longitude'], df3['Neighborhood']):\n",
    "    label = folium.Popup(label, parse_html=True)\n",
    "    folium.CircleMarker(\n",
    "        [lat, lng],\n",
    "        radius=5,\n",
    "        popup=label,\n",
    "        color='blue',\n",
    "        fill=True,\n",
    "        fill_color='#3186cc',\n",
    "        fill_opacity=0.7,\n",
    "        parse_html=False).add_to(map_brook2)  \n",
    "    \n",
    "map_brook2"
   ]
  }
 ],
 "metadata": {
  "kernelspec": {
   "display_name": "Python 3.5",
   "language": "python",
   "name": "python3"
  },
  "language_info": {
   "codemirror_mode": {
    "name": "ipython",
    "version": 3
   },
   "file_extension": ".py",
   "mimetype": "text/x-python",
   "name": "python",
   "nbconvert_exporter": "python",
   "pygments_lexer": "ipython3",
   "version": "3.5.5"
  }
 },
 "nbformat": 4,
 "nbformat_minor": 1
}
